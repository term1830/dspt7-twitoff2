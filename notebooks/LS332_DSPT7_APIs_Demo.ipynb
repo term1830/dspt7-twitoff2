{
 "cells": [
  {
   "cell_type": "markdown",
   "metadata": {
    "toc": true
   },
   "source": [
    "<h1>Table of Contents<span class=\"tocSkip\"></span></h1>\n",
    "<div class=\"toc\"><ul class=\"toc-item\"><li><span><a href=\"#DSPT6---Unit-3-Module-2---Consuming-Data-from-an-API\" data-toc-modified-id=\"DSPT6---Unit-3-Module-2---Consuming-Data-from-an-API-1\"><span class=\"toc-item-num\">1&nbsp;&nbsp;</span>DSPT6 - Unit 3 Module 2 - Consuming Data from an API</a></span></li><li><span><a href=\"#SpaCy-Embeddings\" data-toc-modified-id=\"SpaCy-Embeddings-2\"><span class=\"toc-item-num\">2&nbsp;&nbsp;</span>SpaCy Embeddings</a></span></li><li><span><a href=\"#Bringing-it-all-together\" data-toc-modified-id=\"Bringing-it-all-together-3\"><span class=\"toc-item-num\">3&nbsp;&nbsp;</span>Bringing it all together</a></span></li></ul></div>"
   ]
  },
  {
   "cell_type": "markdown",
   "metadata": {
    "colab": {
     "base_uri": "https://localhost:8080/",
     "height": 155
    },
    "colab_type": "code",
    "id": "SGPLRW-t1ECX",
    "outputId": "f774218a-8e3e-46b3-80ec-8eb1667ddd33"
   },
   "source": [
    "### DSPT6 - Unit 3 Module 2 - Consuming Data from an API\n",
    "\n",
    "The purpose of this notebook is to demonstrate:\n",
    "- Connect to the Twitter API (and twitter_scraper) to query for tweets and user information by various parameters\n",
    "- Convert tweet text using SpaCy into numerical embeddings that can be use in a predictive model"
   ]
  },
  {
   "cell_type": "code",
   "execution_count": 2,
   "metadata": {
    "colab": {},
    "colab_type": "code",
    "id": "vS_A9hjG1HGD"
   },
   "outputs": [],
   "source": [
    "import tweepy"
   ]
  },
  {
   "cell_type": "code",
   "execution_count": 3,
   "metadata": {
    "colab": {},
    "colab_type": "code",
    "id": "ntkRF7mp8zqp"
   },
   "outputs": [],
   "source": [
    "TWITTER_CONSUMER_API_KEY = '4oKI0ZJEC3zPtVH6nI3EeTOev'\n",
    "TWITTER_CONSUMER_API_SECRET = 'jObB3HIRoVBMFtToJvaL062FmA3sg8anTf4oS03xhviMYOoEwS'\n",
    "TWITTER_ACCESS_TOKEN = '887775130163785728-EAbsFX0efp8vkQDFy9G971H8XtvhEQi'\n",
    "TWITTER_ACCESS_TOKEN_SECRET = 'sHSkzZxvGkRKSvyNKFe1valYDDS4J0eweqfX4ALMQZXQ4'\n"
   ]
  },
  {
   "cell_type": "code",
   "execution_count": 4,
   "metadata": {
    "colab": {},
    "colab_type": "code",
    "id": "6F65yM5G1gP1"
   },
   "outputs": [],
   "source": [
    "TWITTER_AUTH = tweepy.OAuthHandler(TWITTER_CONSUMER_API_KEY, TWITTER_CONSUMER_API_SECRET)\n",
    "TWITTER_AUTH.set_access_token(TWITTER_ACCESS_TOKEN, TWITTER_ACCESS_TOKEN_SECRET)\n",
    "TWITTER = tweepy.API(TWITTER_AUTH)"
   ]
  },
  {
   "cell_type": "code",
   "execution_count": 5,
   "metadata": {},
   "outputs": [
    {
     "output_type": "execute_result",
     "data": {
      "text/plain": [
       "['__class__',\n",
       " '__delattr__',\n",
       " '__dict__',\n",
       " '__dir__',\n",
       " '__doc__',\n",
       " '__eq__',\n",
       " '__format__',\n",
       " '__ge__',\n",
       " '__getattribute__',\n",
       " '__gt__',\n",
       " '__hash__',\n",
       " '__init__',\n",
       " '__init_subclass__',\n",
       " '__le__',\n",
       " '__lt__',\n",
       " '__module__',\n",
       " '__ne__',\n",
       " '__new__',\n",
       " '__reduce__',\n",
       " '__reduce_ex__',\n",
       " '__repr__',\n",
       " '__setattr__',\n",
       " '__sizeof__',\n",
       " '__str__',\n",
       " '__subclasshook__',\n",
       " '__weakref__',\n",
       " '_add_list_members',\n",
       " '_lookup_friendships',\n",
       " '_pack_image',\n",
       " '_remove_list_members',\n",
       " '_send_direct_message',\n",
       " 'add_list_member',\n",
       " 'add_list_members',\n",
       " 'api_root',\n",
       " 'auth',\n",
       " 'blocks',\n",
       " 'blocks_ids',\n",
       " 'cache',\n",
       " 'compression',\n",
       " 'configuration',\n",
       " 'create_block',\n",
       " 'create_favorite',\n",
       " 'create_friendship',\n",
       " 'create_list',\n",
       " 'create_media_metadata',\n",
       " 'create_mute',\n",
       " 'create_saved_search',\n",
       " 'destroy_block',\n",
       " 'destroy_direct_message',\n",
       " 'destroy_favorite',\n",
       " 'destroy_friendship',\n",
       " 'destroy_list',\n",
       " 'destroy_mute',\n",
       " 'destroy_saved_search',\n",
       " 'destroy_status',\n",
       " 'favorites',\n",
       " 'followers',\n",
       " 'followers_ids',\n",
       " 'friends',\n",
       " 'friends_ids',\n",
       " 'friendships_incoming',\n",
       " 'friendships_outgoing',\n",
       " 'geo_id',\n",
       " 'geo_search',\n",
       " 'geo_similar_places',\n",
       " 'get_direct_message',\n",
       " 'get_list',\n",
       " 'get_oembed',\n",
       " 'get_saved_search',\n",
       " 'get_settings',\n",
       " 'get_status',\n",
       " 'get_user',\n",
       " 'home_timeline',\n",
       " 'host',\n",
       " 'list_direct_messages',\n",
       " 'list_members',\n",
       " 'list_subscribers',\n",
       " 'list_timeline',\n",
       " 'lists_all',\n",
       " 'lists_memberships',\n",
       " 'lists_subscriptions',\n",
       " 'lookup_friendships',\n",
       " 'lookup_users',\n",
       " 'me',\n",
       " 'media_upload',\n",
       " 'mentions_timeline',\n",
       " 'mutes',\n",
       " 'mutes_ids',\n",
       " 'parser',\n",
       " 'proxy',\n",
       " 'rate_limit_status',\n",
       " 'related_results',\n",
       " 'remove_list_member',\n",
       " 'remove_list_members',\n",
       " 'report_spam',\n",
       " 'retry_count',\n",
       " 'retry_delay',\n",
       " 'retry_errors',\n",
       " 'retweet',\n",
       " 'retweeters',\n",
       " 'retweets',\n",
       " 'retweets_of_me',\n",
       " 'reverse_geocode',\n",
       " 'saved_searches',\n",
       " 'search',\n",
       " 'search_host',\n",
       " 'search_root',\n",
       " 'search_users',\n",
       " 'send_direct_message',\n",
       " 'set_settings',\n",
       " 'show_friendship',\n",
       " 'show_list_member',\n",
       " 'show_list_subscriber',\n",
       " 'statuses_lookup',\n",
       " 'subscribe_list',\n",
       " 'supported_languages',\n",
       " 'timeout',\n",
       " 'trends_available',\n",
       " 'trends_closest',\n",
       " 'trends_place',\n",
       " 'unretweet',\n",
       " 'unsubscribe_list',\n",
       " 'update_list',\n",
       " 'update_profile',\n",
       " 'update_profile_background_image',\n",
       " 'update_profile_banner',\n",
       " 'update_profile_image',\n",
       " 'update_status',\n",
       " 'update_with_media',\n",
       " 'upload_host',\n",
       " 'upload_root',\n",
       " 'user_timeline',\n",
       " 'verify_credentials',\n",
       " 'wait_on_rate_limit',\n",
       " 'wait_on_rate_limit_notify']"
      ]
     },
     "metadata": {},
     "execution_count": 5
    }
   ],
   "source": [
    "dir(TWITTER)"
   ]
  },
  {
   "cell_type": "code",
   "execution_count": 6,
   "metadata": {},
   "outputs": [
    {
     "output_type": "execute_result",
     "data": {
      "text/plain": [
       "User(_api=<tweepy.api.API object at 0x0000020D9F07F630>, _json={'id': 44196397, 'id_str': '44196397', 'name': 'Elon Musk', 'screen_name': 'elonmusk', 'location': '', 'profile_location': None, 'description': '', 'url': None, 'entities': {'description': {'urls': []}}, 'protected': False, 'followers_count': 39244861, 'friends_count': 97, 'listed_count': 56368, 'created_at': 'Tue Jun 02 20:12:29 +0000 2009', 'favourites_count': 6831, 'utc_offset': None, 'time_zone': None, 'geo_enabled': False, 'verified': True, 'statuses_count': 12551, 'lang': None, 'status': {'created_at': 'Fri Oct 09 22:11:28 +0000 2020', 'id': 1314689966870425605, 'id_str': '1314689966870425605', 'text': '@Neopork85 @Caspar_Stanley @ErcXspace @MarcusHouseGame @FelixSchlang @C_Bass3d @nickhenning3d @SpaceX Tiles will be… https://t.co/XPnQrCXQNc', 'truncated': True, 'entities': {'hashtags': [], 'symbols': [], 'user_mentions': [{'screen_name': 'Neopork85', 'name': 'Neopork', 'id': 1151520308718964739, 'id_str': '1151520308718964739', 'indices': [0, 10]}, {'screen_name': 'Caspar_Stanley', 'name': 'Caspar 🚀 (Stanley Creative)', 'id': 456545405, 'id_str': '456545405', 'indices': [11, 26]}, {'screen_name': 'ErcXspace', 'name': 'Erc X', 'id': 1258538731054739456, 'id_str': '1258538731054739456', 'indices': [27, 37]}, {'screen_name': 'MarcusHouseGame', 'name': 'Marcus House', 'id': 718325771392172033, 'id_str': '718325771392172033', 'indices': [38, 54]}, {'screen_name': 'FelixSchlang', 'name': 'What about it!?', 'id': 1139617177600954368, 'id_str': '1139617177600954368', 'indices': [55, 68]}, {'screen_name': 'C_Bass3d', 'name': 'Corey', 'id': 1271203409044144128, 'id_str': '1271203409044144128', 'indices': [69, 78]}, {'screen_name': 'nickhenning3d', 'name': 'Nick Henning', 'id': 863426638108704768, 'id_str': '863426638108704768', 'indices': [79, 93]}, {'screen_name': 'SpaceX', 'name': 'SpaceX', 'id': 34743251, 'id_str': '34743251', 'indices': [94, 101]}], 'urls': [{'url': 'https://t.co/XPnQrCXQNc', 'expanded_url': 'https://twitter.com/i/web/status/1314689966870425605', 'display_url': 'twitter.com/i/web/status/1…', 'indices': [117, 140]}]}, 'source': '<a href=\"http://twitter.com/download/iphone\" rel=\"nofollow\">Twitter for iPhone</a>', 'in_reply_to_status_id': 1314587511042322432, 'in_reply_to_status_id_str': '1314587511042322432', 'in_reply_to_user_id': 1151520308718964739, 'in_reply_to_user_id_str': '1151520308718964739', 'in_reply_to_screen_name': 'Neopork85', 'geo': None, 'coordinates': None, 'place': None, 'contributors': None, 'is_quote_status': False, 'retweet_count': 75, 'favorite_count': 1739, 'favorited': False, 'retweeted': False, 'lang': 'en'}, 'contributors_enabled': False, 'is_translator': False, 'is_translation_enabled': False, 'profile_background_color': 'C0DEED', 'profile_background_image_url': 'http://abs.twimg.com/images/themes/theme1/bg.png', 'profile_background_image_url_https': 'https://abs.twimg.com/images/themes/theme1/bg.png', 'profile_background_tile': False, 'profile_image_url': 'http://pbs.twimg.com/profile_images/1295975423654977537/dHw9JcrK_normal.jpg', 'profile_image_url_https': 'https://pbs.twimg.com/profile_images/1295975423654977537/dHw9JcrK_normal.jpg', 'profile_banner_url': 'https://pbs.twimg.com/profile_banners/44196397/1576183471', 'profile_link_color': '0084B4', 'profile_sidebar_border_color': 'C0DEED', 'profile_sidebar_fill_color': 'DDEEF6', 'profile_text_color': '333333', 'profile_use_background_image': True, 'has_extended_profile': True, 'default_profile': False, 'default_profile_image': False, 'following': True, 'follow_request_sent': False, 'notifications': False, 'translator_type': 'none'}, id=44196397, id_str='44196397', name='Elon Musk', screen_name='elonmusk', location='', profile_location=None, description='', url=None, entities={'description': {'urls': []}}, protected=False, followers_count=39244861, friends_count=97, listed_count=56368, created_at=datetime.datetime(2009, 6, 2, 20, 12, 29), favourites_count=6831, utc_offset=None, time_zone=None, geo_enabled=False, verified=True, statuses_count=12551, lang=None, status=Status(_api=<tweepy.api.API object at 0x0000020D9F07F630>, _json={'created_at': 'Fri Oct 09 22:11:28 +0000 2020', 'id': 1314689966870425605, 'id_str': '1314689966870425605', 'text': '@Neopork85 @Caspar_Stanley @ErcXspace @MarcusHouseGame @FelixSchlang @C_Bass3d @nickhenning3d @SpaceX Tiles will be… https://t.co/XPnQrCXQNc', 'truncated': True, 'entities': {'hashtags': [], 'symbols': [], 'user_mentions': [{'screen_name': 'Neopork85', 'name': 'Neopork', 'id': 1151520308718964739, 'id_str': '1151520308718964739', 'indices': [0, 10]}, {'screen_name': 'Caspar_Stanley', 'name': 'Caspar 🚀 (Stanley Creative)', 'id': 456545405, 'id_str': '456545405', 'indices': [11, 26]}, {'screen_name': 'ErcXspace', 'name': 'Erc X', 'id': 1258538731054739456, 'id_str': '1258538731054739456', 'indices': [27, 37]}, {'screen_name': 'MarcusHouseGame', 'name': 'Marcus House', 'id': 718325771392172033, 'id_str': '718325771392172033', 'indices': [38, 54]}, {'screen_name': 'FelixSchlang', 'name': 'What about it!?', 'id': 1139617177600954368, 'id_str': '1139617177600954368', 'indices': [55, 68]}, {'screen_name': 'C_Bass3d', 'name': 'Corey', 'id': 1271203409044144128, 'id_str': '1271203409044144128', 'indices': [69, 78]}, {'screen_name': 'nickhenning3d', 'name': 'Nick Henning', 'id': 863426638108704768, 'id_str': '863426638108704768', 'indices': [79, 93]}, {'screen_name': 'SpaceX', 'name': 'SpaceX', 'id': 34743251, 'id_str': '34743251', 'indices': [94, 101]}], 'urls': [{'url': 'https://t.co/XPnQrCXQNc', 'expanded_url': 'https://twitter.com/i/web/status/1314689966870425605', 'display_url': 'twitter.com/i/web/status/1…', 'indices': [117, 140]}]}, 'source': '<a href=\"http://twitter.com/download/iphone\" rel=\"nofollow\">Twitter for iPhone</a>', 'in_reply_to_status_id': 1314587511042322432, 'in_reply_to_status_id_str': '1314587511042322432', 'in_reply_to_user_id': 1151520308718964739, 'in_reply_to_user_id_str': '1151520308718964739', 'in_reply_to_screen_name': 'Neopork85', 'geo': None, 'coordinates': None, 'place': None, 'contributors': None, 'is_quote_status': False, 'retweet_count': 75, 'favorite_count': 1739, 'favorited': False, 'retweeted': False, 'lang': 'en'}, created_at=datetime.datetime(2020, 10, 9, 22, 11, 28), id=1314689966870425605, id_str='1314689966870425605', text='@Neopork85 @Caspar_Stanley @ErcXspace @MarcusHouseGame @FelixSchlang @C_Bass3d @nickhenning3d @SpaceX Tiles will be… https://t.co/XPnQrCXQNc', truncated=True, entities={'hashtags': [], 'symbols': [], 'user_mentions': [{'screen_name': 'Neopork85', 'name': 'Neopork', 'id': 1151520308718964739, 'id_str': '1151520308718964739', 'indices': [0, 10]}, {'screen_name': 'Caspar_Stanley', 'name': 'Caspar 🚀 (Stanley Creative)', 'id': 456545405, 'id_str': '456545405', 'indices': [11, 26]}, {'screen_name': 'ErcXspace', 'name': 'Erc X', 'id': 1258538731054739456, 'id_str': '1258538731054739456', 'indices': [27, 37]}, {'screen_name': 'MarcusHouseGame', 'name': 'Marcus House', 'id': 718325771392172033, 'id_str': '718325771392172033', 'indices': [38, 54]}, {'screen_name': 'FelixSchlang', 'name': 'What about it!?', 'id': 1139617177600954368, 'id_str': '1139617177600954368', 'indices': [55, 68]}, {'screen_name': 'C_Bass3d', 'name': 'Corey', 'id': 1271203409044144128, 'id_str': '1271203409044144128', 'indices': [69, 78]}, {'screen_name': 'nickhenning3d', 'name': 'Nick Henning', 'id': 863426638108704768, 'id_str': '863426638108704768', 'indices': [79, 93]}, {'screen_name': 'SpaceX', 'name': 'SpaceX', 'id': 34743251, 'id_str': '34743251', 'indices': [94, 101]}], 'urls': [{'url': 'https://t.co/XPnQrCXQNc', 'expanded_url': 'https://twitter.com/i/web/status/1314689966870425605', 'display_url': 'twitter.com/i/web/status/1…', 'indices': [117, 140]}]}, source='Twitter for iPhone', source_url='http://twitter.com/download/iphone', in_reply_to_status_id=1314587511042322432, in_reply_to_status_id_str='1314587511042322432', in_reply_to_user_id=1151520308718964739, in_reply_to_user_id_str='1151520308718964739', in_reply_to_screen_name='Neopork85', geo=None, coordinates=None, place=None, contributors=None, is_quote_status=False, retweet_count=75, favorite_count=1739, favorited=False, retweeted=False, lang='en'), contributors_enabled=False, is_translator=False, is_translation_enabled=False, profile_background_color='C0DEED', profile_background_image_url='http://abs.twimg.com/images/themes/theme1/bg.png', profile_background_image_url_https='https://abs.twimg.com/images/themes/theme1/bg.png', profile_background_tile=False, profile_image_url='http://pbs.twimg.com/profile_images/1295975423654977537/dHw9JcrK_normal.jpg', profile_image_url_https='https://pbs.twimg.com/profile_images/1295975423654977537/dHw9JcrK_normal.jpg', profile_banner_url='https://pbs.twimg.com/profile_banners/44196397/1576183471', profile_link_color='0084B4', profile_sidebar_border_color='C0DEED', profile_sidebar_fill_color='DDEEF6', profile_text_color='333333', profile_use_background_image=True, has_extended_profile=True, default_profile=False, default_profile_image=False, following=True, follow_request_sent=False, notifications=False, translator_type='none')"
      ]
     },
     "metadata": {},
     "execution_count": 6
    }
   ],
   "source": [
    "twitter_user = TWITTER.get_user('elonmusk')\n",
    "twitter_user"
   ]
  },
  {
   "cell_type": "code",
   "execution_count": 7,
   "metadata": {},
   "outputs": [
    {
     "output_type": "execute_result",
     "data": {
      "text/plain": [
       "44196397"
      ]
     },
     "metadata": {},
     "execution_count": 7
    }
   ],
   "source": [
    "twitter_user.id"
   ]
  },
  {
   "cell_type": "code",
   "execution_count": 8,
   "metadata": {},
   "outputs": [
    {
     "output_type": "execute_result",
     "data": {
      "text/plain": [
       ", favourites_count=6831, utc_offset=None, time_zone=None, geo_enabled=False, verified=True, statuses_count=12551, lang=None, contributors_enabled=False, is_translator=False, is_translation_enabled=False, profile_background_color='C0DEED', profile_background_image_url='http://abs.twimg.com/images/themes/theme1/bg.png', profile_background_image_url_https='https://abs.twimg.com/images/themes/theme1/bg.png', profile_background_tile=False, profile_image_url='http://pbs.twimg.com/profile_images/1295975423654977537/dHw9JcrK_normal.jpg', profile_image_url_https='https://pbs.twimg.com/profile_images/1295975423654977537/dHw9JcrK_normal.jpg', profile_banner_url='https://pbs.twimg.com/profile_banners/44196397/1576183471', profile_link_color='0084B4', profile_sidebar_border_color='C0DEED', profile_sidebar_fill_color='DDEEF6', profile_text_color='333333', profile_use_background_image=True, has_extended_profile=True, default_profile=False, default_profile_image=False, following=True, follow_request_sent=False, notifications=False, translator_type='none'), geo=None, coordinates=None, place=None, contributors=None, is_quote_status=False, retweet_count=60, favorite_count=1320, favorited=False, retweeted=False, lang='und'),\n",
       " Status(_api=<tweepy.api.API object at 0x0000020D9F07F630>, _json={'created_at': 'Thu Oct 08 19:03:47 +0000 2020', 'id': 1314280348797284354, 'id_str': '1314280348797284354', 'text': '@PPathole @TashaARK Yeah, provided we do our metal gear snake autocoupler', 'truncated': False, 'entities': {'hashtags': [], 'symbols': [], 'user_mentions': [{'screen_name': 'PPathole', 'name': 'Pranay Pathole', 'id': 1291945442, 'id_str': '1291945442', 'indices': [0, 9]}, {'screen_name': 'TashaARK', 'name': 'Tasha Keeney', 'id': 2263452746, 'id_str': '2263452746', 'indices': [10, 19]}], 'urls': []}, 'source': '<a href=\"http://twitter.com/download/iphone\" rel=\"nofollow\">Twitter for iPhone</a>', 'in_reply_to_status_id': 1314275895683633152, 'in_reply_to_status_id_str': '1314275895683633152', 'in_reply_to_user_id': 1291945442, 'in_reply_to_user_id_str': '1291945442', 'in_reply_to_screen_name': 'PPathole', 'user': {'id': 44196397, 'id_str': '44196397', 'name': 'Elon Musk', 'screen_name': 'elonmusk', 'location': '', 'description': '', 'url': None, 'entities': {'description': {'urls': []}}, 'protected': False, 'followers_count': 39244861, 'friends_count': 97, 'listed_count': 56368, 'created_at': 'Tue Jun 02 20:12:29 +0000 2009', 'favourites_count': 6831, 'utc_offset': None, 'time_zone': None, 'geo_enabled': False, 'verified': True, 'statuses_count': 12551, 'lang': None, 'contributors_enabled': False, 'is_translator': False, 'is_translation_enabled': False, 'profile_background_color': 'C0DEED', 'profile_background_image_url': 'http://abs.twimg.com/images/themes/theme1/bg.png', 'profile_background_image_url_https': 'https://abs.twimg.com/images/themes/theme1/bg.png', 'profile_background_tile': False, 'profile_image_url': 'http://pbs.twimg.com/profile_images/1295975423654977537/dHw9JcrK_normal.jpg', 'profile_image_url_https': 'https://pbs.twimg.com/profile_images/1295975423654977537/dHw9JcrK_normal.jpg', 'profile_banner_url': 'https://pbs.twimg.com/profile_banners/44196397/1576183471', 'profile_link_color': '0084B4', 'profile_sidebar_border_color': 'C0DEED', 'profile_sidebar_fill_color': 'DDEEF6', 'profile_text_color': '333333', 'profile_use_background_image': True, 'has_extended_profile': True, 'default_profile': False, 'default_profile_image': False, 'following': True, 'follow_request_sent': False, 'notifications': False, 'translator_type': 'none'}, 'geo': None, 'coordinates': None, 'place': None, 'contributors': None, 'is_quote_status': False, 'retweet_count': 46, 'favorite_count': 1132, 'favorited': False, 'retweeted': False, 'lang': 'en'}, created_at=datetime.datetime(2020, 10, 8, 19, 3, 47), id=1314280348797284354, id_str='1314280348797284354', text='@PPathole @TashaARK Yeah, provided we do our metal gear snake autocoupler', truncated=False, entities={'hashtags': [], 'symbols': [], 'user_mentions': [{'screen_name': 'PPathole', 'name': 'Pranay Pathole', 'id': 1291945442, 'id_str': '1291945442', 'indices': [0, 9]}, {'screen_name': 'TashaARK', 'name': 'Tasha Keeney', 'id': 2263452746, 'id_str': '2263452746', 'indices': [10, 19]}], 'urls': []}, source='Twitter for iPhone', source_url='http://twitter.com/download/iphone', in_reply_to_status_id=1314275895683633152, in_reply_to_status_id_str='1314275895683633152', in_reply_to_user_id=1291945442, in_reply_to_user_id_str='1291945442', in_reply_to_screen_name='PPathole', author=User(_api=<tweepy.api.API object at 0x0000020D9F07F630>, _json={'id': 44196397, 'id_str': '44196397', 'name': 'Elon Musk', 'screen_name': 'elonmusk', 'location': '', 'description': '', 'url': None, 'entities': {'description': {'urls': []}}, 'protected': False, 'followers_count': 39244861, 'friends_count': 97, 'listed_count': 56368, 'created_at': 'Tue Jun 02 20:12:29 +0000 2009', 'favourites_count': 6831, 'utc_offset': None, 'time_zone': None, 'geo_enabled': False, 'verified': True, 'statuses_count': 12551, 'lang': None, 'contributors_enabled': False, 'is_translator': False, 'is_translation_enabled': False, 'profile_background_color': 'C0DEED', 'profile_background_image_url': 'http://abs.twimg.com/images/themes/theme1/bg.png', 'profile_background_image_url_https': 'https://abs.twimg.com/images/themes/theme1/bg.png', 'profile_background_tile': False, 'profile_image_url': 'http://pbs.twimg.com/profile_images/1295975423654977537/dHw9JcrK_normal.jpg', 'profile_image_url_https': 'https://pbs.twimg.com/profile_images/1295975423654977537/dHw9JcrK_normal.jpg', 'profile_banner_url': 'https://pbs.twimg.com/profile_banners/44196397/1576183471', 'profile_link_color': '0084B4', 'profile_sidebar_border_color': 'C0DEED', 'profile_sidebar_fill_color': 'DDEEF6', 'profile_text_color': '333333', 'profile_use_background_image': True, 'has_extended_profile': True, 'default_profile': False, 'default_profile_image': False, 'following': True, 'follow_request_sent': False, 'notifications': False, 'translator_type': 'none'}, id=44196397, id_str='44196397', name='Elon Musk', screen_name='elonmusk', location='', description='', url=None, entities={'description': {'urls': []}}, protected=False, followers_count=39244861, friends_count=97, listed_count=56368, created_at=datetime.datetime(2009, 6, 2, 20, 12, 29), favourites_count=6831, utc_offset=None, time_zone=None, geo_enabled=False, verified=True, statuses_count=12551, lang=None, contributors_enabled=False, is_translator=False, is_translation_enabled=False, profile_background_color='C0DEED', profile_background_image_url='http://abs.twimg.com/images/themes/theme1/bg.png', profile_background_image_url_https='https://abs.twimg.com/images/themes/theme1/bg.png', profile_background_tile=False, profile_image_url='http://pbs.twimg.com/profile_images/1295975423654977537/dHw9JcrK_normal.jpg', profile_image_url_https='https://pbs.twimg.com/profile_images/1295975423654977537/dHw9JcrK_normal.jpg', profile_banner_url='https://pbs.twimg.com/profile_banners/44196397/1576183471', profile_link_color='0084B4', profile_sidebar_border_color='C0DEED', profile_sidebar_fill_color='DDEEF6', profile_text_color='333333', profile_use_background_image=True, has_extended_profile=True, default_profile=False, default_profile_image=False, following=True, follow_request_sent=False, notifications=False, translator_type='none'), user=User(_api=<tweepy.api.API object at 0x0000020D9F07F630>, _json={'id': 44196397, 'id_str': '44196397', 'name': 'Elon Musk', 'screen_name': 'elonmusk', 'location': '', 'description': '', 'url': None, 'entities': {'description': {'urls': []}}, 'protected': False, 'followers_count': 39244861, 'friends_count': 97, 'listed_count': 56368, 'created_at': 'Tue Jun 02 20:12:29 +0000 2009', 'favourites_count': 6831, 'utc_offset': None, 'time_zone': None, 'geo_enabled': False, 'verified': True, 'statuses_count': 12551, 'lang': None, 'contributors_enabled': False, 'is_translator': False, 'is_translation_enabled': False, 'profile_background_color': 'C0DEED', 'profile_background_image_url': 'http://abs.twimg.com/images/themes/theme1/bg.png', 'profile_background_image_url_https': 'https://abs.twimg.com/images/themes/theme1/bg.png', 'profile_background_tile': False, 'profile_image_url': 'http://pbs.twimg.com/profile_images/1295975423654977537/dHw9JcrK_normal.jpg', 'profile_image_url_https': 'https://pbs.twimg.com/profile_images/1295975423654977537/dHw9JcrK_normal.jpg', 'profile_banner_url': 'https://pbs.twimg.com/profile_banners/44196397/1576183471', 'profile_link_color': '0084B4', 'profile_sidebar_border_color': 'C0DEED', 'profile_sidebar_fill_color': 'DDEEF6', 'profile_text_color': '333333', 'profile_use_background_image': True, 'has_extended_profile': True, 'default_profile': False, 'default_profile_image': False, 'following': True, 'follow_request_sent': False, 'notifications': False, 'translator_type': 'none'}, id=44196397, id_str='44196397', name='Elon Musk', screen_name='elonmusk', location='', description='', url=None, entities={'description': {'urls': []}}, protected=False, followers_count=39244861, friends_count=97, listed_count=56368, created_at=datetime.datetime(2009, 6, 2, 20, 12, 29), favourites_count=6831, utc_offset=None, time_zone=None, geo_enabled=False, verified=True, statuses_count=12551, lang=None, contributors_enabled=False, is_translator=False, is_translation_enabled=False, profile_background_color='C0DEED', profile_background_image_url='http://abs.twimg.com/images/themes/theme1/bg.png', profile_background_image_url_https='https://abs.twimg.com/images/themes/theme1/bg.png', profile_background_tile=False, profile_image_url='http://pbs.twimg.com/profile_images/1295975423654977537/dHw9JcrK_normal.jpg', profile_image_url_https='https://pbs.twimg.com/profile_images/1295975423654977537/dHw9JcrK_normal.jpg', profile_banner_url='https://pbs.twimg.com/profile_banners/44196397/1576183471', profile_link_color='0084B4', profile_sidebar_border_color='C0DEED', profile_sidebar_fill_color='DDEEF6', profile_text_color='333333', profile_use_background_image=True, has_extended_profile=True, default_profile=False, default_profile_image=False, following=True, follow_request_sent=False, notifications=False, translator_type='none'), geo=None, coordinates=None, place=None, contributors=None, is_quote_status=False, retweet_count=46, favorite_count=1132, favorited=False, retweeted=False, lang='en'),\n",
       " Status(_api=<tweepy.api.API object at 0x0000020D9F07F630>, _json={'created_at': 'Thu Oct 08 18:03:45 +0000 2020', 'id': 1314265240268402691, 'id_str': '1314265240268402691', 'text': '@TashaARK Waymo is impressive, but a highly specialized solution. The Tesla approach is a general solution. The lat… https://t.co/BbchdqHjjA', 'truncated': True, 'entities': {'hashtags': [], 'symbols': [], 'user_mentions': [{'screen_name': 'TashaARK', 'name': 'Tasha Keeney', 'id': 2263452746, 'id_str': '2263452746', 'indices': [0, 9]}], 'urls': [{'url': 'https://t.co/BbchdqHjjA', 'expanded_url': 'https://twitter.com/i/web/status/1314265240268402691', 'display_url': 'twitter.com/i/web/status/1…', 'indices': [117, 140]}]}, 'source': '<a href=\"http://twitter.com/download/iphone\" rel=\"nofollow\">Twitter for iPhone</a>', 'in_reply_to_status_id': 1314262397071302661, 'in_reply_to_status_id_str': '1314262397071302661', 'in_reply_to_user_id': 2263452746, 'in_reply_to_user_id_str': '2263452746', 'in_reply_to_screen_name': 'TashaARK', 'user': {'id': 44196397, 'id_str': '44196397', 'name': 'Elon Musk', 'screen_name': 'elonmusk', 'location': '', 'description': '', 'url': None, 'entities': {'description': {'urls': []}}, 'protected': False, 'followers_count': 39244861, 'friends_count': 97, 'listed_count': 56368, 'created_at': 'Tue Jun 02 20:12:29 +0000 2009', 'favourites_count': 6831, 'utc_offset': None, 'time_zone': None, 'geo_enabled': False, 'verified': True, 'statuses_count': 12551, 'lang': None, 'contributors_enabled': False, 'is_translator': False, 'is_translation_enabled': False, 'profile_background_color': 'C0DEED', 'profile_background_image_url': 'http://abs.twimg.com/images/themes/theme1/bg.png', 'profile_background_image_url_https': 'https://abs.twimg.com/images/themes/theme1/bg.png', 'profile_background_tile': False, 'profile_image_url': 'http://pbs.twimg.com/profile_images/1295975423654977537/dHw9JcrK_normal.jpg', 'profile_image_url_https': 'https://pbs.twimg.com/profile_images/1295975423654977537/dHw9JcrK_normal.jpg', 'profile_banner_url': 'https://pbs.twimg.com/profile_banners/44196397/1576183471', 'profile_link_color': '0084B4', 'profile_sidebar_border_color': 'C0DEED', 'profile_sidebar_fill_color': 'DDEEF6', 'profile_text_color': '333333', 'profile_use_background_image': True, 'has_extended_profile': True, 'default_profile': False, 'default_profile_image': False, 'following': True, 'follow_request_sent': False, 'notifications': False, 'translator_type': 'none'}, 'geo': None, 'coordinates': None, 'place': None, 'contributors': None, 'is_quote_status': False, 'retweet_count': 551, 'favorite_count': 4193, 'favorited': False, 'retweeted': False, 'lang': 'en'}, created_at=datetime.datetime(2020, 10, 8, 18, 3, 45), id=1314265240268402691, id_str='1314265240268402691', text='@TashaARK Waymo is impressive, but a highly specialized solution. The Tesla approach is a general solution. The lat… https://t.co/BbchdqHjjA', truncated=True, entities={'hashtags': [], 'symbols': [], 'user_mentions': [{'screen_name': 'TashaARK', 'name': 'Tasha Keeney', 'id': 2263452746, 'id_str': '2263452746', 'indices': [0, 9]}], 'urls': [{'url': 'https://t.co/BbchdqHjjA', 'expanded_url': 'https://twitter.com/i/web/status/1314265240268402691', 'display_url': 'twitter.com/i/web/status/1…', 'indices': [117, 140]}]}, source='Twitter for iPhone', source_url='http://twitter.com/download/iphone', in_reply_to_status_id=1314262397071302661, in_reply_to_status_id_str='1314262397071302661', in_reply_to_user_id=2263452746, in_reply_to_user_id_str='2263452746', in_reply_to_screen_name='TashaARK', author=User(_api=<tweepy.api.API object at 0x0000020D9F07F630>, _json={'id': 44196397, 'id_str': '44196397', 'name': 'Elon Musk', 'screen_name': 'elonmusk', 'location': '', 'description': '', 'url': None, 'entities': {'description': {'urls': []}}, 'protected': False, 'followers_count': 39244861, 'friends_count': 97, 'listed_count': 56368, 'created_at': 'Tue Jun 02 20:12:29 +0000 2009', 'favourites_count': 6831, 'utc_offset': None, 'time_zone': None, 'geo_enabled': False, 'verified': True, 'statuses_count': 12551, 'lang': None, 'contributors_enabled': False, 'is_translator': False, 'is_translation_enabled': False, 'profile_background_color': 'C0DEED', 'profile_background_image_url': 'http://abs.twimg.com/images/themes/theme1/bg.png', 'profile_background_image_url_https': 'https://abs.twimg.com/images/themes/theme1/bg.png', 'profile_background_tile': False, 'profile_image_url': 'http://pbs.twimg.com/profile_images/1295975423654977537/dHw9JcrK_normal.jpg', 'profile_image_url_https': 'https://pbs.twimg.com/profile_images/1295975423654977537/dHw9JcrK_normal.jpg', 'profile_banner_url': 'https://pbs.twimg.com/profile_banners/44196397/1576183471', 'profile_link_color': '0084B4', 'profile_sidebar_border_color': 'C0DEED', 'profile_sidebar_fill_color': 'DDEEF6', 'profile_text_color': '333333', 'profile_use_background_image': True, 'has_extended_profile': True, 'default_profile': False, 'default_profile_image': False, 'following': True, 'follow_request_sent': False, 'notifications': False, 'translator_type': 'none'}, id=44196397, id_str='44196397', name='Elon Musk', screen_name='elonmusk', location='', description='', url=None, entities={'description': {'urls': []}}, protected=False, followers_count=39244861, friends_count=97, listed_count=56368, created_at=datetime.datetime(2009, 6, 2, 20, 12, 29), favourites_count=6831, utc_offset=None, time_zone=None, geo_enabled=False, verified=True, statuses_count=12551, lang=None, contributors_enabled=False, is_translator=False, is_translation_enabled=False, profile_background_color='C0DEED', profile_background_image_url='http://abs.twimg.com/images/themes/theme1/bg.png', profile_background_image_url_https='https://abs.twimg.com/images/themes/theme1/bg.png', profile_background_tile=False, profile_image_url='http://pbs.twimg.com/profile_images/1295975423654977537/dHw9JcrK_normal.jpg', profile_image_url_https='https://pbs.twimg.com/profile_images/1295975423654977537/dHw9JcrK_normal.jpg', profile_banner_url='https://pbs.twimg.com/profile_banners/44196397/1576183471', profile_link_color='0084B4', profile_sidebar_border_color='C0DEED', profile_sidebar_fill_color='DDEEF6', profile_text_color='333333', profile_use_background_image=True, has_extended_profile=True, default_profile=False, default_profile_image=False, following=True, follow_request_sent=False, notifications=False, translator_type='none'), user=User(_api=<tweepy.api.API object at 0x0000020D9F07F630>, _json={'id': 44196397, 'id_str': '44196397', 'name': 'Elon Musk', 'screen_name': 'elonmusk', 'location': '', 'description': '', 'url': None, 'entities': {'description': {'urls': []}}, 'protected': False, 'followers_count': 39244861, 'friends_count': 97, 'listed_count': 56368, 'created_at': 'Tue Jun 02 20:12:29 +0000 2009', 'favourites_count': 6831, 'utc_offset': None, 'time_zone': None, 'geo_enabled': False, 'verified': True, 'statuses_count': 12551, 'lang': None, 'contributors_enabled': False, 'is_translator': False, 'is_translation_enabled': False, 'profile_background_color': 'C0DEED', 'profile_background_image_url': 'http://abs.twimg.com/images/themes/theme1/bg.png', 'profile_background_image_url_https': 'https://abs.twimg.com/images/themes/theme1/bg.png', 'profile_background_tile': False, 'profile_image_url': 'http://pbs.twimg.com/profile_images/1295975423654977537/dHw9JcrK_normal.jpg', 'profile_image_url_https': 'https://pbs.twimg.com/profile_images/1295975423654977537/dHw9JcrK_normal.jpg', 'profile_banner_url': 'https://pbs.twimg.com/profile_banners/44196397/1576183471', 'profile_link_color': '0084B4', 'profile_sidebar_border_color': 'C0DEED', 'profile_sidebar_fill_color': 'DDEEF6', 'profile_text_color': '333333', 'profile_use_background_image': True, 'has_extended_profile': True, 'default_profile': False, 'default_profile_image': False, 'following': True, 'follow_request_sent': False, 'notifications': False, 'translator_type': 'none'}, id=44196397, id_str='44196397', name='Elon Musk', screen_name='elonmusk', location='', description='', url=None, entities={'description': {'urls': []}}, protected=False, followers_count=39244861, friends_count=97, listed_count=56368, created_at=datetime.datetime(2009, 6, 2, 20, 12, 29), favourites_count=6831, utc_offset=None, time_zone=None, geo_enabled=False, verified=True, statuses_count=12551, lang=None, contributors_enabled=False, is_translator=False, is_translation_enabled=False, profile_background_color='C0DEED', profile_background_image_url='http://abs.twimg.com/images/themes/theme1/bg.png', profile_background_image_url_https='https://abs.twimg.com/images/themes/theme1/bg.png', profile_background_tile=False, profile_image_url='http://pbs.twimg.com/profile_images/1295975423654977537/dHw9JcrK_normal.jpg', profile_image_url_https='https://pbs.twimg.com/profile_images/1295975423654977537/dHw9JcrK_normal.jpg', profile_banner_url='https://pbs.twimg.com/profile_banners/44196397/1576183471', profile_link_color='0084B4', profile_sidebar_border_color='C0DEED', profile_sidebar_fill_color='DDEEF6', profile_text_color='333333', profile_use_background_image=True, has_extended_profile=True, default_profile=False, default_profile_image=False, following=True, follow_request_sent=False, notifications=False, translator_type='none'), geo=None, coordinates=None, place=None, contributors=None, is_quote_status=False, retweet_count=551, favorite_count=4193, favorited=False, retweeted=False, lang='en')]"
      ]
     },
     "metadata": {},
     "execution_count": 8
    }
   ],
   "source": [
    "elon_tweets = twitter_user.timeline()\n",
    "elon_tweets"
   ]
  },
  {
   "cell_type": "code",
   "execution_count": 9,
   "metadata": {},
   "outputs": [
    {
     "output_type": "execute_result",
     "data": {
      "text/plain": [
       "'@Neopork85 @Caspar_Stanley @ErcXspace @MarcusHouseGame @FelixSchlang @C_Bass3d @nickhenning3d @SpaceX Tiles will be… https://t.co/XPnQrCXQNc'"
      ]
     },
     "metadata": {},
     "execution_count": 9
    }
   ],
   "source": [
    "elon_tweets[0].text"
   ]
  },
  {
   "cell_type": "code",
   "execution_count": 10,
   "metadata": {},
   "outputs": [
    {
     "output_type": "execute_result",
     "data": {
      "text/plain": [
       "20"
      ]
     },
     "metadata": {},
     "execution_count": 10
    }
   ],
   "source": [
    "len(elon_tweets)"
   ]
  },
  {
   "cell_type": "code",
   "execution_count": 11,
   "metadata": {},
   "outputs": [
    {
     "output_type": "execute_result",
     "data": {
      "text/plain": [
       "17"
      ]
     },
     "metadata": {},
     "execution_count": 11
    }
   ],
   "source": [
    "elon_tweets = twitter_user.timeline(count=200,\n",
    "                                    exclude_replies=True,\n",
    "                                    include_rts=False,\n",
    "                                    # max_id='1303802636827799555',\n",
    "                                    tweet_mode='extended')\n",
    "len(elon_tweets)"
   ]
  },
  {
   "cell_type": "code",
   "execution_count": 12,
   "metadata": {},
   "outputs": [
    {
     "output_type": "execute_result",
     "data": {
      "text/plain": [
       "'5 minutes from launch. Looks good so far. https://t.co/on2f1pY5jt'"
      ]
     },
     "metadata": {},
     "execution_count": 12
    }
   ],
   "source": [
    "elon_tweets[1].full_text"
   ]
  },
  {
   "cell_type": "markdown",
   "metadata": {},
   "source": [
    "### SpaCy Embeddings"
   ]
  },
  {
   "cell_type": "code",
   "execution_count": 13,
   "metadata": {},
   "outputs": [],
   "source": [
    "import spacy"
   ]
  },
  {
   "cell_type": "code",
   "execution_count": 14,
   "metadata": {},
   "outputs": [],
   "source": [
    "nlp = spacy.load('en_core_web_md', disable=['tagger', 'parser'])"
   ]
  },
  {
   "cell_type": "code",
   "execution_count": 15,
   "metadata": {
    "tags": []
   },
   "outputs": [
    {
     "output_type": "stream",
     "name": "stdout",
     "text": [
      "dog True False\ncat True False\nbanana True False\ndaslkfjsalkjf False True\n"
     ]
    }
   ],
   "source": [
    "tokens = nlp(\"dog cat banana daslkfjsalkjf\")\n",
    "\n",
    "for token in tokens:\n",
    "    print(token.text, token.has_vector, token.is_oov)"
   ]
  },
  {
   "cell_type": "code",
   "execution_count": 16,
   "metadata": {},
   "outputs": [
    {
     "output_type": "execute_result",
     "data": {
      "text/plain": [
       "array([-4.0176e-01,  3.7057e-01,  2.1281e-02, -3.4125e-01,  4.9538e-02,\n",
       "        2.9440e-01, -1.7376e-01, -2.7982e-01,  6.7622e-02,  2.1693e+00,\n",
       "       -6.2691e-01,  2.9106e-01, -6.7270e-01,  2.3319e-01, -3.4264e-01,\n",
       "        1.8311e-01,  5.0226e-01,  1.0689e+00,  1.4698e-01, -4.5230e-01,\n",
       "       -4.1827e-01, -1.5967e-01,  2.6748e-01, -4.8867e-01,  3.6462e-01,\n",
       "       -4.3403e-02, -2.4474e-01, -4.1752e-01,  8.9088e-02, -2.5552e-01,\n",
       "       -5.5695e-01,  1.2243e-01, -8.3526e-02,  5.5095e-01,  3.6410e-01,\n",
       "        1.5361e-01,  5.5738e-01, -9.0702e-01, -4.9098e-02,  3.8580e-01,\n",
       "        3.8000e-01,  1.4425e-01, -2.7221e-01, -3.7016e-01, -1.2904e-01,\n",
       "       -1.5085e-01, -3.8076e-01,  4.9583e-02,  1.2755e-01, -8.2788e-02,\n",
       "        1.4339e-01,  3.2537e-01,  2.7226e-01,  4.3632e-01, -3.1769e-01,\n",
       "        7.9405e-01,  2.6529e-01,  1.0135e-01, -3.3279e-01,  4.3117e-01,\n",
       "        1.6687e-01,  1.0729e-01,  8.9418e-02,  2.8635e-01,  4.0117e-01,\n",
       "       -3.9222e-01,  4.5217e-01,  1.3521e-01, -2.8878e-01, -2.2819e-02,\n",
       "       -3.4975e-01, -2.2996e-01,  2.0224e-01, -2.1177e-01,  2.7184e-01,\n",
       "        9.1703e-02, -2.0610e-01, -6.5758e-01,  1.8949e-01, -2.6756e-01,\n",
       "        9.2639e-02,  4.3316e-01, -4.8868e-01, -3.8309e-01, -2.1910e-01,\n",
       "       -4.4183e-01,  9.8044e-01,  6.7423e-01,  8.4003e-01, -1.8169e-01,\n",
       "        1.7385e-01,  4.1848e-01,  1.6098e-01, -1.0490e-01, -4.1965e-01,\n",
       "       -3.5660e-01, -1.6837e-01, -6.3458e-01,  3.8422e-01, -3.5043e-01,\n",
       "        1.7486e-01,  5.3528e-01,  2.0143e-01,  3.7877e-02,  4.7105e-01,\n",
       "       -4.4344e-01,  1.6840e-01, -1.6685e-01, -2.4022e-01, -1.0077e-01,\n",
       "        3.0334e-01,  4.2730e-01,  3.3803e-01, -4.3481e-01,  1.1343e-01,\n",
       "        6.1958e-02,  6.1808e-02, -1.4007e-01,  8.2018e-02, -3.9130e-02,\n",
       "        5.1442e-02,  2.8725e-01,  5.8025e-01, -5.7641e-01, -3.4652e-01,\n",
       "        1.0132e-01,  1.4463e-01,  1.1569e-02, -3.3701e-01, -1.7586e-01,\n",
       "       -3.5724e-01, -2.1423e-01,  1.1429e-02,  4.7645e-01, -3.7463e-02,\n",
       "       -2.9488e-01, -1.7465e-01,  3.0255e-01,  6.0317e-01, -6.6790e-02,\n",
       "       -2.7050e+00, -7.0308e-01,  4.0548e-01,  6.2874e-01,  6.3080e-01,\n",
       "       -5.4513e-01, -9.6191e-03,  2.6533e-01,  2.3391e-01, -5.1886e-02,\n",
       "       -6.5759e-03,  1.8573e-02, -4.5693e-01, -7.0351e-02, -3.0621e-01,\n",
       "       -1.4018e-02, -2.0408e-01,  3.7100e-01, -3.2354e-01, -8.4646e-01,\n",
       "        2.7092e-01, -1.1961e-01, -9.5576e-02, -6.0464e-01,  4.2409e-02,\n",
       "        2.4656e-01,  3.8445e-02, -2.5467e-02, -9.2908e-02, -2.1356e-01,\n",
       "        3.6120e-01,  1.9113e-02,  6.2741e-02, -1.3083e-01, -1.5146e-03,\n",
       "        5.8238e-01, -1.8956e-01,  7.8105e-01,  1.0477e-02,  1.0928e+00,\n",
       "        1.0140e-01, -3.6248e-01, -1.1962e-01, -3.4462e-01, -5.5704e-01,\n",
       "        2.5797e-01,  3.3356e-01,  3.3194e-01, -3.1298e-01, -7.5547e-01,\n",
       "       -7.5290e-01, -9.3072e-02, -1.1173e-01, -5.7251e-01,  1.6639e-01,\n",
       "        6.3579e-01,  2.4006e-01, -2.9211e-01,  9.0182e-01,  1.2425e-01,\n",
       "       -5.7751e-01,  4.7986e-02, -4.2748e-01,  2.4446e-01,  4.7232e-02,\n",
       "        3.5694e-01,  4.4241e-01, -2.3055e-01,  6.6037e-01, -7.3983e-03,\n",
       "       -3.7857e-01,  2.2759e-01, -3.7138e-01,  3.1055e-01, -7.2105e-02,\n",
       "       -2.4490e-01, -3.9761e-02,  5.3650e-01, -4.1478e-01,  1.6563e-01,\n",
       "        3.3707e-01,  1.0920e-01,  3.7219e-01, -5.5727e-01, -7.8060e-01,\n",
       "        1.4251e-01, -3.5828e-01,  4.1638e-01,  2.1446e-01,  1.8410e-01,\n",
       "       -4.7704e-01, -2.2005e-02, -2.3634e-01, -2.2840e-01,  3.4722e-01,\n",
       "        2.3667e-01,  7.4249e-02, -8.8416e-02,  2.8618e-01, -4.6942e-01,\n",
       "       -4.3914e-01, -2.6474e-01, -3.0690e-01, -1.5260e-01, -8.4870e-02,\n",
       "        2.8410e-01, -1.8481e-01, -2.2122e-01, -1.1169e-01, -2.5241e-02,\n",
       "        4.5968e-02,  3.5343e-02,  2.2467e-01,  5.1556e-01, -6.5137e-04,\n",
       "        9.9559e-02, -1.4215e-01,  2.0136e-01,  2.8334e-01, -2.8772e-01,\n",
       "        3.7766e-02, -3.7608e-01, -1.1681e-01, -6.7020e-01, -4.6265e-02,\n",
       "        3.8784e-01, -3.2295e-02, -5.4291e-02, -4.5384e-01,  1.9552e-01,\n",
       "       -2.9470e-01,  8.5009e-01,  1.0345e-01,  9.7010e-02,  1.1339e-01,\n",
       "        3.9502e-01,  5.9043e-02,  2.1978e-01,  1.8845e-01, -1.5891e-01,\n",
       "       -1.0301e-01,  3.3164e-01,  6.1477e-02, -2.9848e-01,  4.4510e-01,\n",
       "        4.7329e-01,  2.6312e-01, -1.8495e-01,  1.4652e-01, -3.1510e-02,\n",
       "        2.2908e-02, -2.5929e-01, -3.0862e-01,  1.7545e-03, -1.8962e-01,\n",
       "        5.4789e-01,  3.1194e-01,  2.4693e-01,  2.9929e-01, -7.4861e-02],\n",
       "      dtype=float32)"
      ]
     },
     "metadata": {},
     "execution_count": 16
    }
   ],
   "source": [
    "dog = nlp('dog')\n",
    "dog.vector"
   ]
  },
  {
   "cell_type": "code",
   "execution_count": 17,
   "metadata": {},
   "outputs": [
    {
     "output_type": "execute_result",
     "data": {
      "text/plain": [
       "array([-2.63444558e-02,  1.57259718e-01, -7.53910989e-02, -1.23631090e-01,\n",
       "        8.37137178e-02, -2.79369038e-02, -1.31294522e-02, -1.83363810e-01,\n",
       "        5.07157221e-02,  1.85709560e+00, -1.77548170e-01,  1.31119728e-01,\n",
       "        1.04763657e-02, -9.80815440e-02, -1.36556804e-01, -2.80645420e-03,\n",
       "       -9.89628062e-02,  1.09046829e+00, -1.86932102e-01, -9.84349027e-02,\n",
       "       -1.29923597e-01,  9.10322741e-02,  5.87139465e-03, -1.28251627e-01,\n",
       "        5.02191782e-02,  8.62419009e-02, -1.03233457e-01, -6.49535954e-02,\n",
       "        1.28029272e-01, -7.41187334e-02, -3.54302786e-02, -4.59510880e-03,\n",
       "       -3.16000879e-02,  4.79416363e-02,  5.30323647e-02, -2.13597268e-02,\n",
       "        3.50285508e-02,  1.01289898e-01, -1.02948165e-02,  6.03091298e-03,\n",
       "        4.85559106e-02, -2.76907105e-02,  1.11782819e-01, -8.18877295e-02,\n",
       "        2.93220002e-02,  9.69059020e-02, -3.14689279e-01,  7.50734508e-02,\n",
       "       -2.48214528e-01, -7.47219026e-02,  7.59872869e-02, -1.30118104e-02,\n",
       "        2.92390939e-02, -7.79770911e-02, -1.60411783e-02, -3.67605500e-02,\n",
       "       -3.97242047e-02,  2.30288189e-02,  1.27872467e-01, -7.69300200e-03,\n",
       "        1.98298115e-02, -1.31739631e-01,  1.57118198e-02,  1.45756990e-01,\n",
       "       -9.28920805e-02, -1.65944830e-01,  4.52979766e-02,  1.68331534e-01,\n",
       "        1.60729066e-02,  1.88259855e-01,  1.07422203e-01,  1.26091810e-02,\n",
       "        2.47407451e-01,  1.11232825e-01,  4.58181882e-03, -8.80148262e-02,\n",
       "        9.15012583e-02, -1.96836493e-03, -1.40924364e-01,  2.55401909e-01,\n",
       "        9.91591886e-02,  3.60363647e-02,  8.47867923e-04,  6.94414601e-02,\n",
       "        8.64954200e-03, -1.51567280e-01,  8.79378393e-02, -2.56984800e-01,\n",
       "        1.45946488e-01,  4.00632657e-02,  2.80350018e-02,  5.32324575e-02,\n",
       "       -8.50148201e-02,  4.39354312e-03,  1.22587442e-01, -1.16248086e-01,\n",
       "        3.01730037e-02, -1.04050636e-01, -1.00685187e-01, -3.63181457e-02,\n",
       "        1.63007900e-02, -1.09227269e-03, -1.24080464e-01, -1.09954586e-03,\n",
       "        7.01217279e-02, -2.39795208e-01,  1.33952703e-02,  3.38034444e-02,\n",
       "        9.93841439e-02, -2.13686358e-02,  3.10366377e-02, -3.77102733e-01,\n",
       "        1.63996637e-01, -2.06816364e-02,  4.57791463e-02,  1.65209472e-02,\n",
       "        1.93161853e-02,  1.97212771e-02, -6.05890006e-02,  2.13487279e-02,\n",
       "        2.41298191e-02,  1.00774810e-01, -6.93418309e-02, -1.05598852e-01,\n",
       "       -1.57217368e-01,  1.32603094e-01, -1.13644987e-01, -1.82394922e-01,\n",
       "        7.50902742e-02, -6.87649995e-02, -4.69009057e-02, -8.59221816e-02,\n",
       "       -1.53619051e-02,  7.25164860e-02, -1.94495395e-02, -1.85740888e-02,\n",
       "       -1.70718562e-02,  6.50732815e-02,  1.70040000e-02, -8.50699935e-03,\n",
       "       -1.21642458e+00,  2.00556368e-01,  2.44407907e-01, -7.30161741e-02,\n",
       "        1.86427345e-03, -9.29560885e-02, -2.66461998e-01,  9.32721868e-02,\n",
       "        9.02572647e-02,  5.98235466e-02, -1.57157257e-02,  7.99481850e-03,\n",
       "        6.80779144e-02, -3.60747539e-02, -3.72067317e-02, -1.42061889e-01,\n",
       "       -1.17058903e-01,  3.08559109e-02,  5.98641001e-02, -1.38650075e-01,\n",
       "        3.09328157e-02, -7.41403922e-02,  2.87434515e-02, -1.67430907e-01,\n",
       "       -1.01580448e-01,  6.20723760e-04,  1.06816357e-02, -8.56102630e-03,\n",
       "        1.92833647e-01, -5.17590903e-02,  7.65334889e-02, -3.08480281e-02,\n",
       "       -9.38636512e-02, -1.57912627e-01, -1.54872045e-01, -6.39817268e-02,\n",
       "       -4.44642343e-02, -8.58315378e-02, -1.05380984e-02,  3.71175259e-02,\n",
       "       -1.17602900e-01, -6.10168204e-02, -1.09626003e-01, -2.15836272e-01,\n",
       "        4.16152738e-02, -1.03802726e-01,  7.79621825e-02, -1.03804559e-01,\n",
       "        1.21872813e-01,  1.49933085e-01,  6.00240007e-02,  5.77369109e-02,\n",
       "        1.12867288e-01,  1.31985828e-01,  1.00635976e-01,  2.00971831e-02,\n",
       "        7.17151025e-03, -1.64084181e-01,  6.18190505e-03,  1.89742327e-01,\n",
       "        7.82036483e-02, -3.09399012e-02, -3.92004475e-02,  1.18979163e-01,\n",
       "        2.07704052e-01,  1.44590184e-01, -7.29475468e-02, -3.49359065e-02,\n",
       "        3.23246024e-03, -3.81410941e-02, -5.70451841e-02, -2.46376619e-01,\n",
       "        1.42279109e-02, -2.29254186e-01,  1.15414269e-01,  1.44103751e-01,\n",
       "        1.15977354e-01, -4.47056703e-02, -2.72515472e-02,  9.80443880e-02,\n",
       "        5.43054566e-02, -8.27590898e-02, -7.14929998e-02,  1.78015441e-01,\n",
       "        8.48967209e-02, -3.38491797e-02, -9.92020071e-02,  5.17307259e-02,\n",
       "        3.34051810e-02,  7.07738921e-02,  3.16248275e-02, -7.87328184e-02,\n",
       "        1.64011821e-01,  1.25453472e-01,  7.25667328e-02, -1.83651909e-01,\n",
       "        4.01999988e-02, -7.75694549e-02, -1.71156358e-02,  9.68478695e-02,\n",
       "       -2.20950916e-02,  6.03243597e-02, -1.14000171e-01,  1.82724997e-01,\n",
       "        7.38546327e-02, -1.43016636e-01, -1.26509622e-01,  2.12818217e-02,\n",
       "       -1.38822719e-01,  2.24704176e-01, -2.10741777e-02, -5.75116612e-02,\n",
       "       -3.25254537e-02, -3.28369141e-02,  1.60322279e-01,  3.19489568e-01,\n",
       "        2.12350905e-01, -5.10421954e-02, -1.62584797e-01, -1.27542272e-01,\n",
       "        1.04806356e-01,  2.39190012e-01,  1.25720441e-01,  8.02845322e-03,\n",
       "        8.58758297e-03, -2.23315910e-01,  2.94893868e-02,  8.99274498e-02,\n",
       "        2.91360587e-01,  4.97365370e-02,  4.45988588e-02,  1.33273816e-02,\n",
       "       -4.83395457e-02, -3.16687077e-01, -1.91582724e-01,  8.01060870e-02,\n",
       "        7.28502721e-02, -5.57480939e-02, -1.39196338e-02,  3.04119021e-01,\n",
       "        2.03935191e-01, -1.11295655e-01, -5.86367287e-02, -3.29512395e-02,\n",
       "       -3.38870920e-02, -7.86200836e-02,  1.18301809e-02, -1.43809080e-01,\n",
       "        2.05748558e-01,  2.31667291e-02, -9.59233567e-02,  1.01149365e-01,\n",
       "        3.22042266e-03, -3.68034579e-02, -1.85180884e-02, -4.56109904e-02,\n",
       "       -3.18145077e-03, -9.60169062e-02, -9.31519046e-02,  1.30282998e-01],\n",
       "      dtype=float32)"
      ]
     },
     "metadata": {},
     "execution_count": 17
    }
   ],
   "source": [
    "tweet_embedding = nlp(elon_tweets[1].full_text)\n",
    "tweet_embedding.vector"
   ]
  },
  {
   "cell_type": "markdown",
   "metadata": {},
   "source": [
    "### Bringing it all together"
   ]
  },
  {
   "cell_type": "code",
   "execution_count": 18,
   "metadata": {},
   "outputs": [],
   "source": [
    "def vectorize_tweet(nlp, tweet_text):\n",
    "    return nlp(tweet_text).vector"
   ]
  },
  {
   "cell_type": "code",
   "execution_count": 19,
   "metadata": {},
   "outputs": [],
   "source": [
    "def add_or_update_user(username, nlp):\n",
    "    try:\n",
    "        twitter_user = TWITTER.get_user(username)\n",
    "\n",
    "        tweets = twitter_user.timeline(count=200,\n",
    "                                    exclude_replies=True,\n",
    "                                    include_rts=False,\n",
    "                                    tweet_mode='extended')\n",
    "\n",
    "        embeddings = vectorize_tweet(nlp, tweets[0].full_text)\n",
    "    \n",
    "    except Exception as e:\n",
    "        print('Error processing {}: {}'.format(username, e))\n",
    "\n",
    "    return tweets, embeddings"
   ]
  },
  {
   "cell_type": "code",
   "execution_count": 21,
   "metadata": {},
   "outputs": [],
   "source": [
    "import spacy\n",
    "import en_core_web_sm\n",
    "\n",
    "nlp = en_core_web_sm.load()\n",
    "nlp.to_disk('../spacy_sm_model/')"
   ]
  },
  {
   "cell_type": "code",
   "execution_count": 23,
   "metadata": {},
   "outputs": [
    {
     "output_type": "execute_result",
     "data": {
      "text/plain": [
       "array([ 0.51467896,  1.4661711 ,  0.9525614 , -1.6210948 ,  0.70801246,\n",
       "       -0.5800046 ,  0.6653237 ,  0.12671632, -1.8007014 ,  3.0796282 ,\n",
       "        1.1025075 , -0.02410108, -0.49854985, -0.6786231 ,  0.52217203,\n",
       "        0.5810604 ,  1.1357983 ,  0.93913287,  0.2878037 , -0.00811112,\n",
       "        0.53378826,  1.6525501 ,  0.9213655 , -0.18650874,  0.8041087 ,\n",
       "       -0.5618984 , -1.987367  ,  0.4187383 , -0.8529888 , -1.334272  ,\n",
       "        0.18660058, -0.55185384, -0.35166463, -1.071089  , -0.72256076,\n",
       "       -0.60900456,  0.04136705,  1.2797784 , -0.39787614, -1.2303051 ,\n",
       "        1.9672104 , -0.29800996,  0.93724334,  0.24145013,  1.8536514 ,\n",
       "        0.15959564, -0.3495763 ,  3.1787896 , -2.4432797 , -0.5270026 ,\n",
       "       -1.3594596 , -0.48036987,  0.2539275 , -0.6218096 , -1.4225184 ,\n",
       "        1.010413  ,  1.5574871 , -0.95277286, -1.9969494 ,  0.97160596,\n",
       "       -0.80350196, -0.6302952 ,  0.50968313, -2.1953773 ,  1.2089343 ,\n",
       "        2.471593  ,  2.3611047 , -0.64314944,  0.71684563, -0.7367102 ,\n",
       "       -1.1692502 ,  0.46714765,  1.9800032 ,  0.70704526,  2.4604716 ,\n",
       "        0.78306013, -1.7080482 ,  0.4617095 , -1.6445619 ,  1.2048016 ,\n",
       "        0.30157322, -0.23756209,  0.06701386, -1.6832875 ,  0.26244372,\n",
       "       -0.3144874 , -0.8152039 ,  0.24484023,  0.8037776 , -2.0633917 ,\n",
       "       -2.1064363 , -0.02908725,  0.19081728, -0.56150174, -1.6940376 ,\n",
       "       -1.1448063 ], dtype=float32)"
      ]
     },
     "metadata": {},
     "execution_count": 23
    }
   ],
   "source": [
    "nlp2 = spacy.load('../spacy_sm_model')\n",
    "nlp2('Tjos os a sample').vector"
   ]
  },
  {
   "cell_type": "code",
   "execution_count": null,
   "metadata": {},
   "outputs": [],
   "source": []
  }
 ],
 "metadata": {
  "colab": {
   "collapsed_sections": [],
   "name": "DSPT6_APIs_Demo.ipynb",
   "provenance": []
  },
  "kernelspec": {
   "name": "Python 3.7.0 64-bit ('DSPT7-Twitoff': pipenv)",
   "display_name": "Python 3.7.0 64-bit ('DSPT7-Twitoff': pipenv)",
   "metadata": {
    "interpreter": {
     "hash": "f81506ac7cc087dab0ed262a83b64ea07622c46958e46757d8ddba2fe4c6f543"
    }
   }
  },
  "language_info": {
   "codemirror_mode": {
    "name": "ipython",
    "version": 3
   },
   "file_extension": ".py",
   "mimetype": "text/x-python",
   "name": "python",
   "nbconvert_exporter": "python",
   "pygments_lexer": "ipython3",
   "version": "3.7.0-final"
  },
  "toc": {
   "base_numbering": 1,
   "nav_menu": {},
   "number_sections": true,
   "sideBar": true,
   "skip_h1_title": false,
   "title_cell": "Table of Contents",
   "title_sidebar": "Contents",
   "toc_cell": true,
   "toc_position": {},
   "toc_section_display": true,
   "toc_window_display": false
  }
 },
 "nbformat": 4,
 "nbformat_minor": 4
}